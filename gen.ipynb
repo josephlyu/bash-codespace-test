{
 "cells": [
  {
   "cell_type": "code",
   "execution_count": 1,
   "metadata": {},
   "outputs": [
    {
     "name": "stdout",
     "output_type": "stream",
     "text": [
      "Collecting faker\n",
      "  Downloading Faker-15.3.1-py3-none-any.whl (1.6 MB)\n",
      "\u001b[2K     \u001b[90m━━━━━━━━━━━━━━━━━━━━━━━━━━━━━━━━━━━━━━━━\u001b[0m \u001b[32m1.6/1.6 MB\u001b[0m \u001b[31m33.9 MB/s\u001b[0m eta \u001b[36m0:00:00\u001b[0m00:01\u001b[0m\n",
      "\u001b[?25hRequirement already satisfied: python-dateutil>=2.4 in /home/codespace/.local/lib/python3.10/site-packages (from faker) (2.8.2)\n",
      "Requirement already satisfied: six>=1.5 in /home/codespace/.local/lib/python3.10/site-packages (from python-dateutil>=2.4->faker) (1.16.0)\n",
      "Installing collected packages: faker\n",
      "Successfully installed faker-15.3.1\n",
      "\n",
      "\u001b[1m[\u001b[0m\u001b[34;49mnotice\u001b[0m\u001b[1;39;49m]\u001b[0m\u001b[39;49m A new release of pip available: \u001b[0m\u001b[31;49m22.3\u001b[0m\u001b[39;49m -> \u001b[0m\u001b[32;49m22.3.1\u001b[0m\n",
      "\u001b[1m[\u001b[0m\u001b[34;49mnotice\u001b[0m\u001b[1;39;49m]\u001b[0m\u001b[39;49m To update, run: \u001b[0m\u001b[32;49mpython -m pip install --upgrade pip\u001b[0m\n"
     ]
    }
   ],
   "source": [
    "!pip install faker"
   ]
  },
  {
   "cell_type": "code",
   "execution_count": 1,
   "metadata": {},
   "outputs": [
    {
     "data": {
      "text/plain": [
       "[['Jeff', 'Gonzalez'],\n",
       " ['Jennifer', 'Ellis'],\n",
       " ['Melissa', 'Baker'],\n",
       " ['Michael', 'Maxwell'],\n",
       " ['Brandon', 'Williams'],\n",
       " ['Tracy', 'Terry'],\n",
       " ['Courtney', 'Barry'],\n",
       " ['Eric', 'Garner'],\n",
       " ['Dylan', 'Gallagher'],\n",
       " ['Lisa', 'Thompson'],\n",
       " ['Rachel', 'Coleman'],\n",
       " ['Patrick', 'Evans'],\n",
       " ['James', 'Schneider'],\n",
       " ['Stanley', 'Sullivan'],\n",
       " ['Alfred', 'Welch'],\n",
       " ['Michael', 'Martinez'],\n",
       " ['Jamie', 'Miles'],\n",
       " ['Bradley', 'Chung'],\n",
       " ['Reginald', 'Cooper'],\n",
       " ['Ellen', 'Bowers'],\n",
       " ['Nicholas', 'Bell'],\n",
       " ['Gilbert', 'Coleman'],\n",
       " ['Jim', 'Ray'],\n",
       " ['Anthony', 'Ashley'],\n",
       " ['Daniel', 'Thomas'],\n",
       " ['Christopher', 'Young'],\n",
       " ['William', 'Hanson'],\n",
       " ['Nicole', 'Franco'],\n",
       " ['Olivia', 'Riley'],\n",
       " ['Walter', 'Thomas'],\n",
       " ['Jacob', 'Andrews'],\n",
       " ['Amy', 'Rocha'],\n",
       " ['Shaun', 'Young'],\n",
       " ['Carrie', 'Scott'],\n",
       " ['Thomas', 'Collins'],\n",
       " ['Jennifer', 'Barnes'],\n",
       " ['Bradley', 'Dean'],\n",
       " ['James', 'Small'],\n",
       " ['David', 'Beck'],\n",
       " ['Courtney', 'Simpson'],\n",
       " ['Annette', 'Carter'],\n",
       " ['Emily', 'Sutton'],\n",
       " ['Brian', 'Kim'],\n",
       " ['Christian', 'Wright'],\n",
       " ['Linda', 'Johnson'],\n",
       " ['Larry', 'Johnson'],\n",
       " ['Jennifer', 'Gonzalez'],\n",
       " ['William', 'Jenkins'],\n",
       " ['Benjamin', 'Owens'],\n",
       " ['Curtis', 'Butler'],\n",
       " ['Lauren', 'Douglas'],\n",
       " ['Nicole', 'Ho'],\n",
       " ['Jamie', 'Mason'],\n",
       " ['Kevin', 'Bennett'],\n",
       " ['Tracey', 'Green'],\n",
       " ['Max', 'Dickson'],\n",
       " ['Melissa', 'Anderson'],\n",
       " ['Heidi', 'Hall'],\n",
       " ['Henry', 'Nielsen'],\n",
       " ['Frank', 'Hughes'],\n",
       " ['Richard', 'Parker'],\n",
       " ['Chad', 'Wright'],\n",
       " ['Seth', 'Adams'],\n",
       " ['Jordan', 'Reyes'],\n",
       " ['Crystal', 'Bailey'],\n",
       " ['Stephanie', 'Ryan'],\n",
       " ['James', 'Austin'],\n",
       " ['Lisa', 'Wilkins'],\n",
       " ['Samantha', 'Taylor'],\n",
       " ['James', 'Koch'],\n",
       " ['Thomas', 'Davis'],\n",
       " ['James', 'Chan'],\n",
       " ['Paul', 'Bowman'],\n",
       " ['Kathryn', 'Rodriguez'],\n",
       " ['Duane', 'Austin'],\n",
       " ['Brandy', 'Armstrong'],\n",
       " ['Ronnie', 'Clark'],\n",
       " ['Erik', 'Carter'],\n",
       " ['Ethan', 'Arnold'],\n",
       " ['Jessica', 'Henry'],\n",
       " ['Erin', 'Houston'],\n",
       " ['Michele', 'Gonzalez'],\n",
       " ['Jenna', 'Davis'],\n",
       " ['Jeffrey', 'Suarez'],\n",
       " ['Eric', 'Keith'],\n",
       " ['Cody', 'Lynn'],\n",
       " ['Amanda', 'Fowler'],\n",
       " ['Corey', 'Francis'],\n",
       " ['Robert', 'Allen'],\n",
       " ['Joshua', 'Nielsen'],\n",
       " ['Steve', 'Baker'],\n",
       " ['Alexandra', 'Benitez'],\n",
       " ['Robert', 'Crawford'],\n",
       " ['Linda', 'Mcdowell'],\n",
       " ['Debbie', 'Larson'],\n",
       " ['Adrian', 'Mercer'],\n",
       " ['Cassandra', 'Navarro'],\n",
       " ['Noah', 'Smith'],\n",
       " ['John', 'Medina']]"
      ]
     },
     "execution_count": 1,
     "metadata": {},
     "output_type": "execute_result"
    }
   ],
   "source": [
    "from faker import Faker\n",
    "\n",
    "fake = Faker()\n",
    "names = [fake.name().split() for i in range(100)]\n",
    "names = [n for n in names if len(n)==2]\n",
    "names "
   ]
  },
  {
   "cell_type": "code",
   "execution_count": 2,
   "metadata": {},
   "outputs": [],
   "source": [
    "import sqlite3 \n",
    "\n",
    "connection = sqlite3.connect('sample.db') "
   ]
  },
  {
   "cell_type": "code",
   "execution_count": 3,
   "metadata": {},
   "outputs": [],
   "source": [
    "insert_query = 'INSERT INTO people(name, surname) VALUES(?, ?)'\n",
    "cursor = connection.cursor()\n",
    "for n in names:\n",
    "    cursor.execute(insert_query, n)\n",
    "connection.commit()"
   ]
  },
  {
   "cell_type": "code",
   "execution_count": 4,
   "metadata": {},
   "outputs": [
    {
     "name": "stdout",
     "output_type": "stream",
     "text": [
      "(1, 'Jason', 'Strong')\n",
      "(2, 'Andrew', 'Bruce')\n",
      "(3, 'Savannah', 'Wall')\n",
      "(4, 'Ryan', 'Robinson')\n",
      "(5, 'Christopher', 'Daniels')\n",
      "(6, 'Janet', 'Bell')\n",
      "(7, 'Andrew', 'Hart')\n",
      "(8, 'Lee', 'Johnson')\n",
      "(9, 'Jessica', 'Fowler')\n",
      "(10, 'Calvin', 'Freeman')\n"
     ]
    }
   ],
   "source": [
    "select_query = 'SELECT * FROM people LIMIT 10'\n",
    "for i in cursor.execute(select_query):\n",
    "    print(i)"
   ]
  },
  {
   "cell_type": "code",
   "execution_count": null,
   "metadata": {},
   "outputs": [],
   "source": []
  }
 ],
 "metadata": {
  "kernelspec": {
   "display_name": "Python 3.10.4 64-bit",
   "language": "python",
   "name": "python3"
  },
  "language_info": {
   "codemirror_mode": {
    "name": "ipython",
    "version": 3
   },
   "file_extension": ".py",
   "mimetype": "text/x-python",
   "name": "python",
   "nbconvert_exporter": "python",
   "pygments_lexer": "ipython3",
   "version": "3.10.4"
  },
  "orig_nbformat": 4,
  "vscode": {
   "interpreter": {
    "hash": "3ad933181bd8a04b432d3370b9dc3b0662ad032c4dfaa4e4f1596c548f763858"
   }
  }
 },
 "nbformat": 4,
 "nbformat_minor": 2
}
